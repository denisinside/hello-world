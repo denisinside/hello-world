{
  "nbformat": 4,
  "nbformat_minor": 0,
  "metadata": {
    "colab": {
      "provenance": []
    },
    "kernelspec": {
      "name": "python3",
      "display_name": "Python 3"
    },
    "language_info": {
      "name": "python"
    }
  },
  "cells": [
    {
      "cell_type": "markdown",
      "source": [
        "# I. Оператори порівняння та логічні оператори. Умови."
      ],
      "metadata": {
        "id": "qDEi2Pi-4yUC"
      }
    },
    {
      "cell_type": "markdown",
      "source": [
        "1. Створіть цілочисленну змінну зі своїм щасливим або улюбленим числом. Напишіть код, який би автоматизовував наступну задачу.\n",
        "\n",
        "Якщо число парне, помножте його на 2 та виведіть результат на екран.\n",
        "\n",
        "Але якщо число непарне, помножте його на 3 та додайте 1 і виведіть на екран."
      ],
      "metadata": {
        "id": "3v8D4Dkm43Ua"
      }
    },
    {
      "cell_type": "code",
      "execution_count": null,
      "metadata": {
        "id": "dlVjc-Nu4bmb",
        "colab": {
          "base_uri": "https://localhost:8080/"
        },
        "outputId": "2fb43d97-d7c7-4c04-dda4-03a6a8eaf230"
      },
      "outputs": [
        {
          "output_type": "stream",
          "name": "stdout",
          "text": [
            "87\n"
          ]
        }
      ],
      "source": [
        "my_numb = 29\n",
        "if(my_numb % 2 == 0):\n",
        "  my_numb *= 2;\n",
        "else:\n",
        "  my_numb *= 3;\n",
        "print(my_numb)"
      ]
    },
    {
      "cell_type": "markdown",
      "source": [
        "2. Створіть змінну, що посилається на список. Якщо список пустий, додайте будь-який елемент у кінець списку. Якщо ж ні, то нічого не робіть."
      ],
      "metadata": {
        "id": "H669P0QK5BI_"
      }
    },
    {
      "cell_type": "code",
      "source": [
        "my_list = list()\n",
        "\n",
        "if not my_list:\n",
        "  my_list.append(29)\n",
        "\n",
        "print(my_list)"
      ],
      "metadata": {
        "id": "ecWlfra45f6E",
        "colab": {
          "base_uri": "https://localhost:8080/"
        },
        "outputId": "04b67011-bdff-4af0-a3b7-57c5c5cc1975"
      },
      "execution_count": null,
      "outputs": [
        {
          "output_type": "stream",
          "name": "stdout",
          "text": [
            "[29]\n"
          ]
        }
      ]
    },
    {
      "cell_type": "markdown",
      "source": [
        "3. Створіть рядок зі своїм імʼям латинкою. Напишіть код, який би автоматизовував наступну задачу.\n",
        "\n",
        "Якщо в імені є літера \"а\"\n",
        " або \"i\", Виведіть на екран повідомлення \"A or I is in the name\".\n",
        "\n",
        "\n",
        "\n",
        "Якщо в імені є літери \"o\" та \"n\", Виведіть на екран повідомлення \"O and N is in the name\".\n",
        "\n",
        "Також якщо в імені немає літери \"о\", але є \"n\", Виведіть на екран повідомлення \"Only N is in the name\".\n",
        "\n",
        "В решті випадків виведіть на екран повідомлення \"There is no N in the name, but there might be O\".\n",
        "\n",
        "Зверніть увагу, що, наприклад, для імені \"Antonina\" буде виведено два повідомлення."
      ],
      "metadata": {
        "id": "h9Y3cMUd5h85"
      }
    },
    {
      "cell_type": "code",
      "source": [
        "my_latynka = \"Shvachka Denys\"\n",
        "\n",
        "if 'a' in my_latynka or 'i' in my_latynka:\n",
        "  print(\"A or I is in the name\")\n",
        "\n",
        "if 'o' in my_latynka and 'n' in my_latynka:\n",
        "  print(\"O and N is in the name\")\n",
        "elif not 'o' in my_latynka and 'n' in my_latynka:\n",
        "  print(\"Only N is in the name\")\n",
        "else:\n",
        "  print(\"There is no N in the name, but there might be O\")\n"
      ],
      "metadata": {
        "id": "bUH4LUx35u52",
        "colab": {
          "base_uri": "https://localhost:8080/"
        },
        "outputId": "b7d0fea0-5790-41e8-d983-c03982b323f2"
      },
      "execution_count": null,
      "outputs": [
        {
          "output_type": "stream",
          "name": "stdout",
          "text": [
            "A or I is in the name\n",
            "Only N is in the name\n"
          ]
        }
      ]
    },
    {
      "cell_type": "markdown",
      "source": [
        "# II. Comprehensions."
      ],
      "metadata": {
        "id": "wPCXJv4354cU"
      }
    },
    {
      "cell_type": "markdown",
      "source": [
        "4. Створіть список, використовуючи if (не if-else), range та comprehension."
      ],
      "metadata": {
        "id": "jULLW5jN55Pw"
      }
    },
    {
      "cell_type": "code",
      "source": [
        "my_list = [x//5 for x in range(0,51) if x % 5  == 0]\n",
        "print(my_list)"
      ],
      "metadata": {
        "id": "mlZalnVC6W3F",
        "colab": {
          "base_uri": "https://localhost:8080/"
        },
        "outputId": "bbe207e1-eedc-4e5d-efde-0dcf26f2d4bd"
      },
      "execution_count": null,
      "outputs": [
        {
          "output_type": "stream",
          "name": "stdout",
          "text": [
            "[0, 1, 2, 3, 4, 5, 6, 7, 8, 9, 10]\n"
          ]
        }
      ]
    },
    {
      "cell_type": "markdown",
      "source": [
        "5. Створіть словник, використовуючи dict comprehension, що містить if else. Коли слід використовувати comprehensions, а коли їх слід уникати?"
      ],
      "metadata": {
        "id": "LqhEQ4JW6XcC"
      }
    },
    {
      "cell_type": "code",
      "source": [
        "my_dict = {x: \"ділиться на 5\" if x % 5 == 0 else \"не ділиться на 5\" for x in range(1,16)}\n",
        "print(my_dict)"
      ],
      "metadata": {
        "id": "1yVaFbOs6hta",
        "colab": {
          "base_uri": "https://localhost:8080/"
        },
        "outputId": "bc00e270-39bc-4c96-947a-ed0bddc61317"
      },
      "execution_count": null,
      "outputs": [
        {
          "output_type": "stream",
          "name": "stdout",
          "text": [
            "{1: 'не ділиться на 5', 2: 'не ділиться на 5', 3: 'не ділиться на 5', 4: 'не ділиться на 5', 5: 'ділиться на 5', 6: 'не ділиться на 5', 7: 'не ділиться на 5', 8: 'не ділиться на 5', 9: 'не ділиться на 5', 10: 'ділиться на 5', 11: 'не ділиться на 5', 12: 'не ділиться на 5', 13: 'не ділиться на 5', 14: 'не ділиться на 5', 15: 'ділиться на 5'}\n"
          ]
        }
      ]
    },
    {
      "cell_type": "markdown",
      "source": [
        "Comprehensions дуже корисний та зручний інструмент, який можна використовувати для спрощення коду та покращення розуміння коду. Але це припустимо, коли логіка не дуже складна та не має багато вкладених умов, які зроблять код важким для розуміння. У противному випадку краще не використовувати та обійтись звичайними циклами."
      ],
      "metadata": {
        "id": "wbkzNhKq6hzz"
      }
    },
    {
      "cell_type": "markdown",
      "source": [
        "6. Створіть список з рядками та запишіть його у змінну. Створіть ще один список на основі попереднього, де кожен рядок буде містити тільки три перших заглавних символи. Наприклад: ['hello', 'i', 'dont', 'care'] -> ['HEL', 'I', 'DON', 'CAR']. Використання comprehensions обовʼязкове."
      ],
      "metadata": {
        "id": "ZlqB8G3G6lHP"
      }
    },
    {
      "cell_type": "code",
      "source": [
        "my_list1 = [\"Denys\", \"loves\", \"pes\", \"patron\"]\n",
        "my_list2 = [x[:3].upper() for x in my_list1]\n",
        "print(my_list2)"
      ],
      "metadata": {
        "id": "nw6rz0bR60VC",
        "colab": {
          "base_uri": "https://localhost:8080/"
        },
        "outputId": "48b01258-016c-4bb7-cd88-c4c2c42769ec"
      },
      "execution_count": null,
      "outputs": [
        {
          "output_type": "stream",
          "name": "stdout",
          "text": [
            "['DEN', 'LOV', 'PES', 'PAT']\n"
          ]
        }
      ]
    },
    {
      "cell_type": "markdown",
      "source": [
        "# III. Цикли."
      ],
      "metadata": {
        "id": "Tj573IAH64Fz"
      }
    },
    {
      "cell_type": "markdown",
      "source": [
        "7. Продемонструйте роботу циклу while. Не можна використовувати True для запуску циклу, щоб уникнути безкінечного циклу!"
      ],
      "metadata": {
        "id": "tN_33xdE65H5"
      }
    },
    {
      "cell_type": "code",
      "source": [
        "counter = 0;\n",
        "while counter < 29:\n",
        "  counter += 1;\n",
        "  print(\"meow\")"
      ],
      "metadata": {
        "id": "Kd9FO6yG63P5",
        "colab": {
          "base_uri": "https://localhost:8080/"
        },
        "outputId": "6276c334-62c1-4657-fcdc-1730c3883f62"
      },
      "execution_count": null,
      "outputs": [
        {
          "output_type": "stream",
          "name": "stdout",
          "text": [
            "meow\n",
            "meow\n",
            "meow\n",
            "meow\n",
            "meow\n",
            "meow\n",
            "meow\n",
            "meow\n",
            "meow\n",
            "meow\n",
            "meow\n",
            "meow\n",
            "meow\n",
            "meow\n",
            "meow\n",
            "meow\n",
            "meow\n",
            "meow\n",
            "meow\n",
            "meow\n",
            "meow\n",
            "meow\n",
            "meow\n",
            "meow\n",
            "meow\n",
            "meow\n",
            "meow\n",
            "meow\n",
            "meow\n"
          ]
        }
      ]
    },
    {
      "cell_type": "markdown",
      "source": [
        "8. Напишіть програму, яка виведе на екран непарні числа в діапазоні від 0 до 20 включно."
      ],
      "metadata": {
        "id": "x2CmfZO-7pW0"
      }
    },
    {
      "cell_type": "code",
      "source": [
        "for x in range(21):\n",
        "  if(x % 2 == 1):\n",
        "    print(x)"
      ],
      "metadata": {
        "id": "aCSRYA6s7tkF",
        "colab": {
          "base_uri": "https://localhost:8080/"
        },
        "outputId": "d7641b89-a866-438f-feb5-db60e9d6a4bb"
      },
      "execution_count": null,
      "outputs": [
        {
          "output_type": "stream",
          "name": "stdout",
          "text": [
            "1\n",
            "3\n",
            "5\n",
            "7\n",
            "9\n",
            "11\n",
            "13\n",
            "15\n",
            "17\n",
            "19\n"
          ]
        }
      ]
    },
    {
      "cell_type": "markdown",
      "source": [
        "9. Створіть список з елементами булевого типу або None. Використовуючи цикли, отримайте в результаті список з кортежами, де перший елемент кортежу - індекс(ціле число), а другий елемент - відповідне значення з першого списку.\n",
        "\n",
        "Наприклад, [True, True, None, False] -> [(0, True), (1, True), (2, None), (3, False)]"
      ],
      "metadata": {
        "id": "MDWNocZD7t_B"
      }
    },
    {
      "cell_type": "code",
      "source": [
        "my_list1 = [True, True, None, False]\n",
        "my_list2 = list()\n",
        "counter = 0;\n",
        "for counter,x in my_list1:\n",
        "  my_list2.append((counter,x))\n",
        "  counter += 1\n",
        "print(my_list2)"
      ],
      "metadata": {
        "id": "0EUyjMdp7yfh",
        "colab": {
          "base_uri": "https://localhost:8080/"
        },
        "outputId": "dbb5cc27-ac8f-4206-9f71-81cc1b58449e"
      },
      "execution_count": null,
      "outputs": [
        {
          "output_type": "stream",
          "name": "stdout",
          "text": [
            "[(0, True), (1, True), (2, None), (3, False)]\n"
          ]
        }
      ]
    },
    {
      "cell_type": "markdown",
      "source": [
        "10. Створіть словник, де ключі - назви книжок, а значення - їхня кількість у наявності в Вашій міні-бібліотеці. Бібліотека має містити щонайменше 6 книжок (6 пар значень у словнику) і щонайбільше 10 (пар значень). Використовуючи цикли, оновіть словник (не створюйте новий) так, щоби кількість книг у наявності збільшилося на 5 кожної книги. Наприклад,\n",
        "{'It': 3, 'Fault stars': 10, 'Bible': 17, 'Psychological romance': 4, 'Harry Potter': 13} -> {'It': 8, 'Fault stars': 15, 'Bible': 22, 'Psychological romance': 9, 'Harry Potter': 18}"
      ],
      "metadata": {
        "id": "-6XUqlcG7zKs"
      }
    },
    {
      "cell_type": "code",
      "source": [
        "my_dict = {\n",
        "    'Ivan Potter': 7,\n",
        "    'Pes Patron History' : 29,\n",
        "    'Zhytomyr' : 4,\n",
        "    'Minecraft Guide' : 5,\n",
        "    'Dead By Clowns Attack' : 9,\n",
        "    '50 shades of Mohyla Academy' : 42\n",
        "}\n",
        "\n",
        "for x in my_dict.keys():\n",
        "  my_dict[x] += 5;\n",
        "\n",
        "print(my_dict)"
      ],
      "metadata": {
        "id": "Ceoj9wwb791q",
        "colab": {
          "base_uri": "https://localhost:8080/"
        },
        "outputId": "496403ab-bc13-4099-a795-6b4aeb3d499b"
      },
      "execution_count": null,
      "outputs": [
        {
          "output_type": "stream",
          "name": "stdout",
          "text": [
            "{'Ivan Potter': 12, 'Pes Patron History': 34, 'Zhytomyr': 9, 'Minecraft Guide': 10, 'Dead By Clowns Attack': 14, '50 shades of Mohyla Academy': 47}\n"
          ]
        }
      ]
    },
    {
      "cell_type": "markdown",
      "source": [
        "11. Визначте цілочислену змінну n, що належить проміжку від 4 до 10 включно. Використовуючи цикли, виведіть в консоль наступний патерн.\n",
        "\n",
        "#\n",
        "##\n",
        "###\n",
        "####\n",
        "\n",
        "... #*n\n"
      ],
      "metadata": {
        "id": "QLzyJM288AC7"
      }
    },
    {
      "cell_type": "code",
      "source": [
        "n = 8\n",
        "for x in range(1,n+1):\n",
        "  print(\"#\"*x)"
      ],
      "metadata": {
        "id": "KOpng87s8Duz",
        "colab": {
          "base_uri": "https://localhost:8080/"
        },
        "outputId": "516710d8-b02e-4439-d6f1-5b71c68e55be"
      },
      "execution_count": null,
      "outputs": [
        {
          "output_type": "stream",
          "name": "stdout",
          "text": [
            "#\n",
            "##\n",
            "###\n",
            "####\n",
            "#####\n",
            "######\n",
            "#######\n",
            "########\n"
          ]
        }
      ]
    },
    {
      "cell_type": "markdown",
      "source": [
        "12. Гра \"Нумо вгадай\".\n",
        "Розробіть просту гру, де користувач має вгадати випадкове число від 1 до 100. Для генерації випадкового числа використовуйте функцію random.randint(a, b) (тут a та b включно). Для отримання числа з консолі використовуйте функцію input(), результат якої обовʼязково явно приведіть до типу int.\n",
        "\n",
        "Підказка: використовуйте цикл while та умови if-else, щоб повідомити користувачу піказки (напр. \"Більше\", \"Менше\") поки користувач не вгадає. По завершенню виведіть кількість спроб, які знадобилися для вгадування."
      ],
      "metadata": {
        "id": "_bd-bqAT8EHn"
      }
    },
    {
      "cell_type": "code",
      "source": [
        "import random\n",
        "\n",
        "random_num = random.randint(1,100)\n",
        "player_num = 0;\n",
        "tries = 0;\n",
        "\n",
        "print(\"Пса Патрона залишили самого вдома. Він проголодався. \\nНіхто не попіклувався про їжу, але він згадав, що в одній із сотен комірок сховані смаколики. \\nДопоможи йому знайти потрібну комірку.\")\n",
        "while not player_num == random_num:\n",
        "  print(\"\\nВ якій комірці знаходиться смаколик?\\n\")\n",
        "  player_num = int(input())\n",
        "  if(player_num < random_num):\n",
        "    print(\"\\nПес Патрон: я чую носом, що смаколик в комірці поБІЛЬШЕ!\")\n",
        "  if(player_num > random_num):\n",
        "    print(\"\\nПес Патрон: я чую носом, що смаколик в комірці поМЕНШЕ!\")\n",
        "  tries += 1\n",
        "\n",
        "print(\"\\nВи знайшли смаколик для цього пухнастика! Тепер усі щасливі. Знадобилось \", tries, \" спроб.\")\n",
        "print(\"  __    __\\no-''))_____\\\\\\n\\\"--__/ * * * )\\nc_c__/-c____/\")\n"
      ],
      "metadata": {
        "id": "IK9nnxFK8Hkl",
        "colab": {
          "base_uri": "https://localhost:8080/"
        },
        "outputId": "d985e2b4-dfc6-4957-db27-87f234f96c16"
      },
      "execution_count": 1,
      "outputs": [
        {
          "output_type": "stream",
          "name": "stdout",
          "text": [
            "Пса Патрона залишили самого вдома. Він проголодався. \n",
            "Ніхто не попіклувався про їжу, але він згадав, що в одній із сотен комірок сховані смаколики. \n",
            "Допоможи йому знайти потрібну комірку.\n",
            "\n",
            "В якій комірці знаходиться смаколик?\n",
            "\n",
            "50\n",
            "\n",
            "Пес Патрон: я чую носом, що смаколик в комірці поБІЛЬШЕ!\n",
            "\n",
            "В якій комірці знаходиться смаколик?\n",
            "\n",
            "75\n",
            "\n",
            "Пес Патрон: я чую носом, що смаколик в комірці поБІЛЬШЕ!\n",
            "\n",
            "В якій комірці знаходиться смаколик?\n",
            "\n",
            "90\n",
            "\n",
            "Пес Патрон: я чую носом, що смаколик в комірці поМЕНШЕ!\n",
            "\n",
            "В якій комірці знаходиться смаколик?\n",
            "\n",
            "85\n",
            "\n",
            "Пес Патрон: я чую носом, що смаколик в комірці поБІЛЬШЕ!\n",
            "\n",
            "В якій комірці знаходиться смаколик?\n",
            "\n",
            "87\n",
            "\n",
            "Ви знайшли смаколик для цього пухнастика! Тепер усі щасливі. Знадобилось  5  спроб.\n",
            "  __    __\n",
            "o-''))_____\\\n",
            "\"--__/ * * * )\n",
            "c_c__/-c____/\n"
          ]
        }
      ]
    },
    {
      "cell_type": "markdown",
      "source": [
        "# Вітаю! Ви велика(ий) молодець, що впоралась(вся). Похваліть себе та побалуйте чимось приємним. Я Вами пишаюся."
      ],
      "metadata": {
        "id": "PXoXWb7Z8IGi"
      }
    }
  ]
}