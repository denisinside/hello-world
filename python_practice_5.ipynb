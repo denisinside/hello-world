{
  "nbformat": 4,
  "nbformat_minor": 0,
  "metadata": {
    "colab": {
      "provenance": []
    },
    "kernelspec": {
      "name": "python3",
      "display_name": "Python 3"
    },
    "language_info": {
      "name": "python"
    }
  },
  "cells": [
    {
      "cell_type": "markdown",
      "source": [
        "# I. OOP"
      ],
      "metadata": {
        "id": "5qV_sehzFCTp"
      }
    },
    {
      "cell_type": "markdown",
      "source": [
        "1. (6б). Створіть клас Animal, додайте три атрибути, один з яких має значення за замовчуванням та два методи на свій розсуд."
      ],
      "metadata": {
        "id": "tx_U_hOALyfg"
      }
    },
    {
      "cell_type": "code",
      "source": [
        "class Animal:\n",
        "  def __init__(self, name, species, sound='meow'):\n",
        "    self.name = name\n",
        "    self.species = species\n",
        "    self.sound = sound\n",
        "\n",
        "  def make_sound(self):\n",
        "    print(f'{self.sound}!')\n",
        "    return None\n",
        "\n",
        "  def passport(self):\n",
        "    return f'Name: {self.name}, kind of animal: {self.species}'\n"
      ],
      "metadata": {
        "id": "-Vf895KaL88N"
      },
      "execution_count": 52,
      "outputs": []
    },
    {
      "cell_type": "markdown",
      "source": [
        "2. (2б). Створіть два обʼєкти цього класу, де один з обʼєктів створюється із дефолтним значенням атрибуту. На одному обʼєкті отримайте значення його атрибуту, а на іншому викличте один з його методів."
      ],
      "metadata": {
        "id": "X_UlOMB0L93w"
      }
    },
    {
      "cell_type": "code",
      "source": [
        "tom = Animal('Tom', 'Cat')\n",
        "tom.make_sound()\n",
        "print(tom.passport())\n",
        "\n",
        "patron = Animal('Patron', 'Dog', 'Woof')\n",
        "print(patron.name)"
      ],
      "metadata": {
        "id": "7gBu0ESOMCpG",
        "colab": {
          "base_uri": "https://localhost:8080/"
        },
        "outputId": "1eed1ed0-84af-42f0-a332-067c2eb3995b"
      },
      "execution_count": 53,
      "outputs": [
        {
          "output_type": "stream",
          "name": "stdout",
          "text": [
            "meow!\n",
            "Name: Tom, kind of animal: Cat\n",
            "Patron\n"
          ]
        }
      ]
    },
    {
      "cell_type": "markdown",
      "source": [
        "3. (5б). Створіть клас, де атрибути мають різні рівні доступу. Спробуйте отримати їхні значення та опишіть результати."
      ],
      "metadata": {
        "id": "HoqSCZt1MHn5"
      }
    },
    {
      "cell_type": "code",
      "source": [
        "class VeryUsefulClass:\n",
        "  def __init__(self, public, protected, private):\n",
        "    self.public = public\n",
        "    self._protected = protected\n",
        "    self.__private = private\n",
        "\n",
        "\n",
        "test = VeryUsefulClass(1,2,3)\n",
        "print(f'Public: {test.public}')\n",
        "print(f'Protected: {test._protected}')\n",
        "try:\n",
        "  print(f'Private: {test.__private}')\n",
        "except AttributeError as e:\n",
        "  print('Getting a private attribute failed')\n",
        "print(f'Private using _VeryUsefulClass__private: {test._VeryUsefulClass__private}')  # why??"
      ],
      "metadata": {
        "id": "r9b3vJxBMSPV",
        "colab": {
          "base_uri": "https://localhost:8080/"
        },
        "outputId": "00298c5c-339f-4427-d9e5-b0c1a5bf7b50"
      },
      "execution_count": 54,
      "outputs": [
        {
          "output_type": "stream",
          "name": "stdout",
          "text": [
            "Public: 1\n",
            "Protected: 2\n",
            "Getting a private attribute failed\n",
            "Private using _VeryUsefulClass__private: 3\n"
          ]
        }
      ]
    },
    {
      "cell_type": "markdown",
      "source": [
        "4. (7б). Як ви розумієте термін self? Для чого використовується метод __init __?"
      ],
      "metadata": {
        "id": "5op2m2vgMSkZ"
      }
    },
    {
      "cell_type": "markdown",
      "source": [
        "__init__ - це конструктор класу, який виконується при створенні об'єкта цього класу автоматично, завдяки чому можна виконувати ініціалізацію з певними початковими значеннями. Для цього треба звертатись насамперед к self, що є посиланням на посиланням на поточний об'єкт класу, який використовується в методах цього класу. Воно завжди передається як перший аргумент усіх методів класу."
      ],
      "metadata": {
        "id": "DyiPqNRvMasx"
      }
    },
    {
      "cell_type": "markdown",
      "source": [
        "5. (9б). Створіть клас Фігура без атрибутів, з методом get_area для отримання площі фігури, що повертає 0 та __add __, який приймає self та other в якості аргументів, а повертає суму площин фігур self та other."
      ],
      "metadata": {
        "id": "-6X8EGfjMd2y"
      }
    },
    {
      "cell_type": "code",
      "source": [
        "class Figure:\n",
        "  def __init__(self):\n",
        "    pass\n",
        "\n",
        "  def __add__(self, other):\n",
        "    return self.get_area() + other.get_area()\n",
        "\n",
        "  def get_area(self):\n",
        "    return 0"
      ],
      "metadata": {
        "id": "4rvO_wYUMaEr"
      },
      "execution_count": 55,
      "outputs": []
    },
    {
      "cell_type": "markdown",
      "source": [
        "6. (11б). Створіть 2 дочірніх класи від Фігури: Трикутник та Коло, які мають атрибути, необхідні для розрахунку площин. Визначте метод get_area в кожному з них так, щоби вони розраховували площу в залежності від формули для кожного типу фігури. Створіть обʼєкт класу Трикутник та обʼєкт класу Коло. Виконайте операцію суми за допомогою оператора + між ними."
      ],
      "metadata": {
        "id": "SFcKnnv5Mo_z"
      }
    },
    {
      "cell_type": "code",
      "source": [
        "class Triangle(Figure):\n",
        "  def __init__(self, base_side, height):\n",
        "    self.base = base_side\n",
        "    self.height = height\n",
        "\n",
        "  def get_area(self):\n",
        "    return self.base * self.height * 0.5\n",
        "\n",
        "\n",
        "class Circle(Figure):\n",
        "  def __init__(self, radius):\n",
        "    self.radius = radius\n",
        "\n",
        "  def get_area(self):\n",
        "    return self.radius**2 * 3.14\n",
        "\n",
        "\n",
        "triangle = Triangle(10, 15)\n",
        "print(f'Triangle area: {triangle.get_area()}')\n",
        "\n",
        "circle = Circle(10)\n",
        "print(f'Circle area: {circle.get_area()}')\n",
        "\n",
        "print(f'Triangle area + circle area: {triangle + circle}')"
      ],
      "metadata": {
        "id": "H3GVNr69Muf3",
        "colab": {
          "base_uri": "https://localhost:8080/"
        },
        "outputId": "a9efa42f-ab06-4772-83c7-36aac5b08106"
      },
      "execution_count": 56,
      "outputs": [
        {
          "output_type": "stream",
          "name": "stdout",
          "text": [
            "Triangle area: 75.0\n",
            "Circle area: 314.0\n",
            "Triangle area + circle area: 389.0\n"
          ]
        }
      ]
    },
    {
      "cell_type": "markdown",
      "source": [
        "7. (3б). Продемонструйте різницю між isinstance та issubclass."
      ],
      "metadata": {
        "id": "HCvR206YMvLK"
      }
    },
    {
      "cell_type": "code",
      "source": [
        "# checks if an object is an instance of a particular class or its subclass\n",
        "print(f'isinstance(triangle,Triangle): {isinstance(triangle,Triangle)}')\n",
        "print(f'isinstance(triangle,Figure): {isinstance(triangle,Figure)}')\n",
        "\n",
        "#checks if a class is a subclass of another class\n",
        "print(f'\\nissubclass(Triangle,Figure): {issubclass(Triangle,Figure)}')\n",
        "print(f'issubclass(Figure,Triangle): {issubclass(Figure,Triangle)}')"
      ],
      "metadata": {
        "id": "L_V1bBvDM0GN",
        "colab": {
          "base_uri": "https://localhost:8080/"
        },
        "outputId": "3c7c78c1-3ee4-4d56-d741-cd2da834f55b"
      },
      "execution_count": 24,
      "outputs": [
        {
          "output_type": "stream",
          "name": "stdout",
          "text": [
            "isinstance(triangle,Triangle): True\n",
            "isinstance(triangle,Figure): True\n",
            "\n",
            "issubclass(Triangle,Figure): True\n",
            "issubclass(Figure,Triangle): False\n"
          ]
        }
      ]
    },
    {
      "cell_type": "markdown",
      "source": [
        "8. (13б). Створіть клас BankAccount з приватними атрибутами balance та account_number. Реалізуйте методи поповнення та зняття коштів, забезпечивши належну інкапсуляцію. Підказка: використовуйте декоратори property та setter."
      ],
      "metadata": {
        "id": "jjsaBZ-iM0Qq"
      }
    },
    {
      "cell_type": "code",
      "source": [
        "class BankAccount:\n",
        "  def __init__(self, account_number, initial_balance=0):\n",
        "    self.__account_number = account_number\n",
        "    self.__balance = initial_balance\n",
        "\n",
        "  @property\n",
        "  def account_number(self):\n",
        "    return self.__account_number\n",
        "\n",
        "  @property\n",
        "  def balance(self):\n",
        "    return self.__balance\n",
        "\n",
        "  @balance.setter\n",
        "  def balance(self, balance):\n",
        "    if (balance > 0):\n",
        "      self.__balance = balance\n",
        "    else:\n",
        "      self.__balance = 0\n",
        "    return None\n",
        "\n",
        "  def deposit(self, amount):\n",
        "    if (amount > 0):\n",
        "      self.__balance += amount\n",
        "    else:\n",
        "      raise AttributeError(\"Deposit amount is negative\")\n",
        "    return None\n",
        "\n",
        "  def withdraw(self, amount):\n",
        "    if (amount > 0):\n",
        "      if (self.__balance - amount >= 0):\n",
        "        self.__balance -= amount\n",
        "      else:\n",
        "        raise AttributeError(\"Insufficient funds\")\n",
        "    else:\n",
        "      raise AttributeError(\"Withdraw amount is negative\")\n",
        "\n",
        "\n",
        "account1 = BankAccount(1)\n",
        "print(f'Balance: {account1.balance}')\n",
        "account1.deposit(100)\n",
        "print(f'Deposited 100 hryvnas: {account1.balance}')\n",
        "account1.withdraw(29)\n",
        "print(f'Withdrawed 29 hryvnas: {account1.balance}')"
      ],
      "metadata": {
        "id": "xCvZ7lh8M7YA",
        "colab": {
          "base_uri": "https://localhost:8080/"
        },
        "outputId": "89844d28-c388-4cfb-b841-3cc48a7b925a"
      },
      "execution_count": 58,
      "outputs": [
        {
          "output_type": "stream",
          "name": "stdout",
          "text": [
            "Balance: 0\n",
            "Deposited 100 hryvnas: 100\n",
            "Withdrawed 29 hryvnas: 71\n"
          ]
        }
      ]
    },
    {
      "cell_type": "markdown",
      "source": [
        "9. (11б). Створіть клас Library, який містить список об'єктів типу Book. Реалізуйте методи для додавання книги, видалення книги та відображення списку книг."
      ],
      "metadata": {
        "id": "tIzL2SJTM8ft"
      }
    },
    {
      "cell_type": "code",
      "source": [
        "class Book:\n",
        "  def __init__(self, name, author, year):\n",
        "    self.name = name\n",
        "    self.author = author\n",
        "    self.year = year\n",
        "\n",
        "  def __str__(self):\n",
        "    return f'\\\"{self.name}\\\" by {self.author}, {self.year}'\n",
        "\n",
        "\n",
        "class Library:\n",
        "  def __init__(self):\n",
        "    self.__book_list = list()\n",
        "\n",
        "  def __str__(self):\n",
        "    books_info = \"\\n\".join(str(book) for book in self.__book_list)\n",
        "    return f'Books in the library:\\n{books_info}'\n",
        "\n",
        "  def add_book(self, book):\n",
        "    if (isinstance(book, Book)):\n",
        "      self.__book_list.append(book)\n",
        "    else:\n",
        "      raise AttributeError('The object is not a book')\n",
        "    return None\n",
        "\n",
        "  def remove_book(self, book):\n",
        "    self.__book_list.remove(book)\n",
        "    return None\n",
        "\n",
        "\n",
        "lib = Library()\n",
        "book1 = Book(\"Rascal Does Not Dream of Pes Patron\", \"Taras Shevchenko\", 2016)\n",
        "lib.add_book(book1)\n",
        "lib.add_book(Book(\"Zhytomyr Ghoul\", \"Stepan Gyga\", 1957))\n",
        "lib.add_book(Book(\"Furry attack: nowhere to hide\", \"Mr.Crazy\", 1995))\n",
        "\n",
        "print(lib)\n",
        "\n",
        "print(\"\\nTaras Shevchenko delsited his book from all libraries. Let's remove the book\\n\")\n",
        "lib.remove_book(book1)\n",
        "print(lib)"
      ],
      "metadata": {
        "id": "HWxfJKLtNAUZ",
        "colab": {
          "base_uri": "https://localhost:8080/"
        },
        "outputId": "c2670636-d931-44a0-d1f0-7a858281804e"
      },
      "execution_count": 59,
      "outputs": [
        {
          "output_type": "stream",
          "name": "stdout",
          "text": [
            "Books in the library:\n",
            "\"Rascal Does Not Dream of Pes Patron\" by Taras Shevchenko, 2016\n",
            "\"Zhytomyr Ghoul\" by Stepan Gyga, 1957\n",
            "\"Furry attack: nowhere to hide\" by Mr.Crazy, 1995\n",
            "\n",
            "Taras Shevchenko delsited his book from all libraries. Let's remove the book\n",
            "\n",
            "Books in the library:\n",
            "\"Zhytomyr Ghoul\" by Stepan Gyga, 1957\n",
            "\"Furry attack: nowhere to hide\" by Mr.Crazy, 1995\n"
          ]
        }
      ]
    },
    {
      "cell_type": "markdown",
      "source": [
        "10. (13б). Створіть клас Person з атрибутами name та age. Створіть ще один клас Employee з такими атрибутами, як department та salary. Створіть клас Manager, який успадковує обидва класи Person та Employee. Продемонструйте використання множинної спадковості, створивши обʼєкт класу Manager та отримавши mro для цього класу."
      ],
      "metadata": {
        "id": "lmV8pAwwNIqu"
      }
    },
    {
      "cell_type": "code",
      "source": [
        "class Person:\n",
        "  def __init__(self, name, age):\n",
        "    self.name = name\n",
        "    self.age = age\n",
        "\n",
        "\n",
        "class Employee:\n",
        "  def __init__(self, department, salary):\n",
        "    self.department = department\n",
        "    self.salary = salary\n",
        "\n",
        "\n",
        "class Manager(Person, Employee):\n",
        "  def __init__(self, name, age, department, salary):\n",
        "    Person.__init__(self, name ,age)\n",
        "    Employee.__init__(self, department, salary)\n",
        "\n",
        "\n",
        "manager = Manager(\"Igor Clown\", 29, \"DZND\", 20000)\n",
        "print(Manager.mro())"
      ],
      "metadata": {
        "id": "R49grKlWNPeN",
        "colab": {
          "base_uri": "https://localhost:8080/"
        },
        "outputId": "a51437e4-4ccd-42b4-f4b9-a066db13bdcf"
      },
      "execution_count": 60,
      "outputs": [
        {
          "output_type": "stream",
          "name": "stdout",
          "text": [
            "[<class '__main__.Manager'>, <class '__main__.Person'>, <class '__main__.Employee'>, <class 'object'>]\n"
          ]
        }
      ]
    },
    {
      "cell_type": "markdown",
      "source": [
        "# II. Iterator"
      ],
      "metadata": {
        "id": "dIJyUiNBFG8G"
      }
    },
    {
      "cell_type": "markdown",
      "source": [
        "11. (4б). Визначте рядок(str) з 4ма різними за значенням символами. Створіть ітератор на основі цього рядка. Викличте 5 разів функцію next на ітераторі, 4ри перших з них огорніть у ф-цію print()."
      ],
      "metadata": {
        "id": "13vsm0NyKIzL"
      }
    },
    {
      "cell_type": "code",
      "source": [
        "string = 'meow'\n",
        "iterator = iter(string)\n",
        "print(next(iterator))\n",
        "print(next(iterator))\n",
        "print(next(iterator))\n",
        "print(next(iterator))\n",
        "try:\n",
        "  print(next(iterator))\n",
        "except StopIteration as e:\n",
        "  print(\"End of iteration\")"
      ],
      "metadata": {
        "id": "81ntabAkKuz-",
        "colab": {
          "base_uri": "https://localhost:8080/"
        },
        "outputId": "93aa7685-da50-4402-d401-193eb7b0848a"
      },
      "execution_count": 61,
      "outputs": [
        {
          "output_type": "stream",
          "name": "stdout",
          "text": [
            "m\n",
            "e\n",
            "o\n",
            "w\n",
            "End of iteration\n"
          ]
        }
      ]
    },
    {
      "cell_type": "markdown",
      "source": [
        "А що якщо викликати цю ж функцію на рядку?"
      ],
      "metadata": {
        "id": "aekWHGXOLRsO"
      }
    },
    {
      "cell_type": "code",
      "source": [
        "next(string)\n",
        "# 'str' object is not an iterator"
      ],
      "metadata": {
        "id": "mxATGsErLV1i",
        "colab": {
          "base_uri": "https://localhost:8080/",
          "height": 141
        },
        "outputId": "a17198ea-68aa-41c9-b87d-7358c4fb67a0"
      },
      "execution_count": 46,
      "outputs": [
        {
          "output_type": "error",
          "ename": "TypeError",
          "evalue": "'str' object is not an iterator",
          "traceback": [
            "\u001b[0;31m---------------------------------------------------------------------------\u001b[0m",
            "\u001b[0;31mTypeError\u001b[0m                                 Traceback (most recent call last)",
            "\u001b[0;32m<ipython-input-46-50005732e4cf>\u001b[0m in \u001b[0;36m<cell line: 1>\u001b[0;34m()\u001b[0m\n\u001b[0;32m----> 1\u001b[0;31m \u001b[0mnext\u001b[0m\u001b[0;34m(\u001b[0m\u001b[0mstring\u001b[0m\u001b[0;34m)\u001b[0m\u001b[0;34m\u001b[0m\u001b[0;34m\u001b[0m\u001b[0m\n\u001b[0m",
            "\u001b[0;31mTypeError\u001b[0m: 'str' object is not an iterator"
          ]
        }
      ]
    },
    {
      "cell_type": "markdown",
      "source": [
        " 12. (5б). Опишіть своїми словами в одному реченні, як ви розумієте різницю між ітерабельними обʼєктами та ітераторами (можна на прикладі)."
      ],
      "metadata": {
        "id": "XwtMEopwJ4pH"
      }
    },
    {
      "cell_type": "markdown",
      "source": [
        "Ітерабельні об'єкти - об'єкти, які можна перебирати за допомогою циклів чи ітераторів. Ітератор - те, завдяки чому можна ітерувати, послідовно надаючи доступ до списку ітерабельних об'єктів, та зберігають свій стан між викликами. Ітератор може ітерувати список лише один раз, а ітерацій над ітерабельними об'єктами за допомогою ітераторів може бути безліч навіть паралельно."
      ],
      "metadata": {
        "id": "-sHrODc3KFn8"
      }
    },
    {
      "cell_type": "markdown",
      "source": [
        "13. (11б). Створіть клас, що має визначений Iterator Protocol та при кожному виклику next повертає літери англійської абетки, поки вони не вичерпаються."
      ],
      "metadata": {
        "id": "E9qJWmNbK8Gl"
      }
    },
    {
      "cell_type": "code",
      "source": [
        "class AlphabetIterator:\n",
        "  def __init__(self, start_from='a'):\n",
        "    self.current_letter = ord(start_from)\n",
        "\n",
        "  def __iter__(self):\n",
        "    return self;\n",
        "\n",
        "  def __next__(self):\n",
        "    if (self.current_letter <= ord('z')):\n",
        "      letter = chr(self.current_letter)\n",
        "      self.current_letter += 1\n",
        "      return letter\n",
        "    else:\n",
        "      raise StopIteration\n",
        "\n",
        "\n",
        "alphabet = AlphabetIterator('a')\n",
        "iterator = iter(alphabet)\n",
        "\n",
        "for i in range(26):\n",
        "  print(next(iterator))"
      ],
      "metadata": {
        "id": "cqx-g_RsLo6I",
        "colab": {
          "base_uri": "https://localhost:8080/"
        },
        "outputId": "9cf2fcaf-5e60-4edb-e0cc-51737491c6c9"
      },
      "execution_count": 62,
      "outputs": [
        {
          "output_type": "stream",
          "name": "stdout",
          "text": [
            "a\n",
            "b\n",
            "c\n",
            "d\n",
            "e\n",
            "f\n",
            "g\n",
            "h\n",
            "i\n",
            "j\n",
            "k\n",
            "l\n",
            "m\n",
            "n\n",
            "o\n",
            "p\n",
            "q\n",
            "r\n",
            "s\n",
            "t\n",
            "u\n",
            "v\n",
            "w\n",
            "x\n",
            "y\n",
            "z\n"
          ]
        }
      ]
    },
    {
      "cell_type": "markdown",
      "source": [
        "# Вітаю! Ви велика(ий) молодець, що впоралась(вся). Похваліть себе та побалуйте чимось приємним. Я Вами пишаюся."
      ],
      "metadata": {
        "id": "Z3E3S_s1Fv7-"
      }
    }
  ]
}